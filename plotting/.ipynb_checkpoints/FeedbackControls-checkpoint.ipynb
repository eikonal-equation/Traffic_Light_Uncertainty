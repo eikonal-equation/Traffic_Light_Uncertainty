{
 "cells": [
  {
   "cell_type": "markdown",
   "metadata": {},
   "source": [
    "# Optimal Driving - Feedback Controls"
   ]
  },
  {
   "cell_type": "markdown",
   "metadata": {},
   "source": [
    "This notebook plots the feedback controls for the Optimal Driving framework."
   ]
  },
  {
   "cell_type": "markdown",
   "metadata": {},
   "source": [
    "## Import Statements:"
   ]
  },
  {
   "cell_type": "code",
   "execution_count": 1,
   "metadata": {},
   "outputs": [],
   "source": [
    "import numpy as np\n",
    "import matplotlib.style as style\n",
    "import matplotlib as mpl\n",
    "import matplotlib.pyplot as plt\n",
    "import matplotlib.animation as animation\n",
    "from matplotlib import cm\n",
    "from mpl_toolkits import mplot3d\n",
    "import matplotlib.ticker as mticker\n",
    "from matplotlib.ticker import LinearLocator, FormatStrFormatter\n",
    "from matplotlib import animation\n",
    "from matplotlib.animation import FuncAnimation, PillowWriter\n",
    "import math\n",
    "import os\n",
    "import sys"
   ]
  },
  {
   "cell_type": "markdown",
   "metadata": {},
   "source": [
    "### In-text plots toggle:\n",
    "\n",
    "Uncomment the code in the cell below to view the plots in a separate window."
   ]
  },
  {
   "cell_type": "code",
   "execution_count": 2,
   "metadata": {},
   "outputs": [],
   "source": [
    "#%matplotlib qt"
   ]
  },
  {
   "cell_type": "markdown",
   "metadata": {},
   "source": [
    "## Problem Selection:\n",
    "\n",
    "Select problem results to view according to numbering scheme:\n",
    "\n",
    "    1. Stationary (Phase $G$).\n",
    "    2. Red-Green.\n",
    "    3. Yellow-Red-Green.\n",
    "    4. Uncertain Green Duration, 2 light lengths.\n",
    "    5. Uncertain Green Duration, 3 light lengths."
   ]
  },
  {
   "cell_type": "code",
   "execution_count": 3,
   "metadata": {},
   "outputs": [
    {
     "name": "stdout",
     "output_type": "stream",
     "text": [
      "Problem Number: 2\n"
     ]
    }
   ],
   "source": [
    "indexChoices = [1,2,3,4,5]\n",
    "problemSelector = int(input(\"Problem Number: \")) #user specified timeslice to plot\n",
    "if problemSelector not in indexChoices: \n",
    "    print (\"No such problem index, invalid choice'\")\n",
    "    sys.exit() #kill the program if user-specified N is out of bounds"
   ]
  },
  {
   "cell_type": "markdown",
   "metadata": {},
   "source": [
    "## Read in Parameters:\n"
   ]
  },
  {
   "cell_type": "code",
   "execution_count": 13,
   "metadata": {},
   "outputs": [],
   "source": [
    "paramFileName = 'FileName'\n",
    "\n",
    "if problemSelector == 1:\n",
    "    paramFileName = '../output/stationary_params'\n",
    "elif problemSelector == 2:\n",
    "    paramFileName = '../output/rg_params'\n",
    "elif problemSelector == 3:\n",
    "    paramFileName = '../output/yrg_params'\n",
    "elif problemSelector == 4:\n",
    "    paramFileName = '../output/uncertain_green_params_2L'\n",
    "elif problemSelector == 5:\n",
    "    paramFileName = '../output/uncertain_green_params_3L'"
   ]
  },
  {
   "cell_type": "code",
   "execution_count": 14,
   "metadata": {},
   "outputs": [],
   "source": [
    "gInUncertainGreenPhase = 1; \n",
    "\n",
    "with open('%s.txt' %paramFileName) as f:    \n",
    "    \n",
    "    #Parameter Key\n",
    "    paramKey = f.readline()\n",
    "    #paramVals = [float(num) for num in line1.split(' ')]\n",
    "    \n",
    "    #Param values\n",
    "    line2 = f.readline()\n",
    "    paramVals = [float(num) for num in line2.split(' ')]\n",
    "    \n",
    "    line3 =f.readline()\n",
    "    \n",
    "    #Uncertain green info\n",
    "    line4 = f.readline()\n",
    "    stochLightInfo = [float(num) for num in line4.split(' ')]\n",
    "    \n",
    "    line5 = f.readline()\n",
    "    \n",
    "    #Sampling info (not currently used)\n",
    "    line6 = f.readline()\n",
    "    samplingInfo = [float(num) for num in line6.split(' ')]\n",
    "    "
   ]
  },
  {
   "cell_type": "markdown",
   "metadata": {},
   "source": [
    "### Parameter Definitions:"
   ]
  },
  {
   "cell_type": "code",
   "execution_count": 15,
   "metadata": {},
   "outputs": [
    {
     "name": "stdout",
     "output_type": "stream",
     "text": [
      "Terminal Time:  60.0\n",
      "Maximum Time Index:  2400.0\n"
     ]
    }
   ],
   "source": [
    "gDPos = paramVals[0]\n",
    "\n",
    "gDVel = paramVals[1]\n",
    "\n",
    "gDT = paramVals[2]\n",
    "\n",
    "gDMax = paramVals[3]\n",
    "\n",
    "gVMax = paramVals[4]\n",
    "\n",
    "gDTarget = paramVals[5]\n",
    "\n",
    "gLightLength = paramVals[6]\n",
    "\n",
    "gDNum = int(paramVals[7])\n",
    "\n",
    "gVNum = int(paramVals[8])\n",
    "\n",
    "gNt = int(paramVals[9])\n",
    "\n",
    "gAlpha = paramVals[10]\n",
    "\n",
    "gBeta = paramVals[11]\n",
    "\n",
    "gTG = paramVals[12]\n",
    "\n",
    "gTR = paramVals[13]\n",
    "\n",
    "gTerminalT = paramVals[14]\n",
    "print(\"Terminal Time: \", gTerminalT)\n",
    "gAccelInfty = paramVals[15]\n",
    "\n",
    "gN = gVNum #how it's set in code \n",
    "\n",
    "gInfty = 10000000 \n",
    "\n",
    "forbiddenAccel = np.nan\n",
    "\n",
    "##========================================STOCHASTIC LIGHT INFO====================================================\n",
    "if gInUncertainGreenPhase == 1:\n",
    "    gTY1 = stochLightInfo[0]\n",
    "    gTY2 = stochLightInfo[1]\n",
    "    gTYP1 = stochLightInfo[2]\n",
    "    gTYP2 = stochLightInfo[3]\n",
    "    gYellowDuration = stochLightInfo[4]\n",
    "    gRedDuration = stochLightInfo[5]\n",
    "    gTR = stochLightInfo[6]\n",
    "    gTG = stochLightInfo[7]\n",
    "\n",
    "##=======================================SAMPLING DETAILS==========================================================\n",
    "gSamplingTNumThresh = samplingInfo[0]\n",
    "gSliceSampleSpacing = samplingInfo[1]\n",
    "\n",
    "if (gNt < gSamplingTNumThresh):\n",
    "    gSliceSampleSpacing = 1\n",
    "       \n",
    "maxSliceIndex = gNt / gSliceSampleSpacing\n",
    "\n",
    "print(\"Maximum Time Index: \", maxSliceIndex)\n",
    "\n",
    "prohibitedVal = gAccelInfty"
   ]
  },
  {
   "cell_type": "markdown",
   "metadata": {},
   "source": [
    "## Timeslice Selection:\n",
    "\n",
    "Enter time index corresponding to the time at which you wish to view the feedback control heatmap still."
   ]
  },
  {
   "cell_type": "code",
   "execution_count": 16,
   "metadata": {},
   "outputs": [
    {
     "name": "stdout",
     "output_type": "stream",
     "text": [
      "Timeslice index: 0\n"
     ]
    }
   ],
   "source": [
    "timeslice = int(input(\"Timeslice index: \")) #user specified timeslice to plot\n",
    "sampleSlice = timeslice / gSliceSampleSpacing \n",
    "sampleSliceMod = timeslice % gSliceSampleSpacing \n",
    "if sampleSlice > maxSliceIndex or sampleSliceMod != 0: \n",
    "    print (\"Time out of bounds, invalid choice'\")\n",
    "    sys.exit() #kill the program if user-specified N is out of bounds\n",
    "    \n",
    "mpl.rcParams['font.size'] = 18"
   ]
  },
  {
   "cell_type": "markdown",
   "metadata": {},
   "source": [
    "## Data Processing:\n",
    "\n",
    "Read in the arrays containing the control and value function information. Extract data corresponding to user-selected time. Reorient the data so that the $(0,0)$ entry is in the bottom left corner. Assign nan value to points at which the value function is infinite."
   ]
  },
  {
   "cell_type": "code",
   "execution_count": 17,
   "metadata": {},
   "outputs": [],
   "source": [
    "fileName = 'FileName'\n",
    "fileName2 = 'FileName'\n",
    "fileName3 = 'FileName'\n",
    "if problemSelector == 1:\n",
    "    fileName = '../output/stationary_oc'\n",
    "elif problemSelector == 2:\n",
    "    fileName = '../output/rg_oc'\n",
    "elif problemSelector == 3:\n",
    "    fileName = '../output/yrg_oc_c2_0.33'\n",
    "elif problemSelector == 4:\n",
    "    fileName = '../output/uncertain_green_oc_2L_c2_0.33_p1_0.50_p2_0.50'\n",
    "    fileName2 = '../output/uncertain_green_oc_2L_c2_0.33_p1_0.95_p2_0.05'\n",
    "    fileName3 = '../output/uncertain_green_oc_2L_c2_0.75_p1_0.50_p2_0.50'\n",
    "elif problemSelector == 5:\n",
    "    fileName = '../output/uncertain_green_oc_3L_c2_0.33_p1_0.25_p2_0.25_p3_0.50'"
   ]
  },
  {
   "cell_type": "code",
   "execution_count": 18,
   "metadata": {},
   "outputs": [],
   "source": [
    "## list of lists - each row from each matrix (starting from t=0) is stored as its own list in data, \n",
    "data = np.loadtxt('%s.txt' %fileName) \n",
    "data2 = np.loadtxt('%s.txt' %fileName) \n",
    "data3 = np.loadtxt('%s.txt' %fileName) \n",
    "\n",
    "start = int(sampleSlice * (gDNum + 1))\n",
    "end = int(start + gDNum + 1)\n",
    "\n",
    "#extract the matrix for the user specifed slice \n",
    "plottingData = data[start:end]\n",
    "plottingData2 = data2[start:end]\n",
    "plottingData3 = data3[start:end]\n",
    "\n",
    "#flip the plotting data correctly to plot starting from the bottom left corner\n",
    "plottingData = np.transpose(plottingData) #rows first become columns \n",
    "\n",
    "plottingData = np.flip(plottingData,0) #order of the columns are flipped to start from bottom up\n",
    "\n",
    "#Go through data and reset accel infty to nan\n",
    "for j in range (0, gVNum):\n",
    "    for i in range (0, gDNum):\n",
    "        if plottingData[j][i] == prohibitedVal:\n",
    "            nanVal = np.nan\n",
    "            plottingData[j][i] = nanVal\n",
    "            \n",
    "if problemSelector == 4:\n",
    "    data2 = np.loadtxt('%s.txt' %fileName2) \n",
    "    data3 = np.loadtxt('%s.txt' %fileName3) \n",
    "    start = int(sampleSlice * (gDNum + 1))\n",
    "    end = int(start + gDNum + 1)\n",
    "\n",
    "    #extract the matrix for the user specifed slice \n",
    "    plottingData2 = data2[start:end]\n",
    "    plottingData3 = data3[start:end]\n",
    "    \n",
    "    #flip the plotting data correctly to plot starting from the bottom left corner\n",
    "    plottingData2 = np.transpose(plottingData2) #rows first become columns \n",
    "    plottingData3 = np.transpose(plottingData3) #rows first become columns \n",
    "\n",
    "    plottingData2 = np.flip(plottingData2,0) #order of the columns are flipped to start from bottom up\n",
    "    plottingData3 = np.flip(plottingData3,0) #order of the columns are flipped to start from bottom up\n",
    "\n",
    "    #Go through data and reset accel infty to nan\n",
    "    for j in range (0, gVNum):\n",
    "        for i in range (0, gDNum):\n",
    "            if plottingData2[j][i] == prohibitedVal:\n",
    "                nanVal = np.nan\n",
    "                plottingData2[j][i] = nanVal\n",
    "            if plottingData3[j][i] == prohibitedVal:\n",
    "                nanVal = np.nan\n",
    "                plottingData3[j][i] = nanVal"
   ]
  },
  {
   "cell_type": "markdown",
   "metadata": {},
   "source": [
    "## Feedback Control Heatmap Plotting:"
   ]
  },
  {
   "cell_type": "code",
   "execution_count": 19,
   "metadata": {},
   "outputs": [
    {
     "name": "stdout",
     "output_type": "stream",
     "text": [
      "Current time in process:  0.0\n"
     ]
    },
    {
     "data": {
      "image/png": "[encoded data removed]",
      "text/plain": [
       "<Figure size 432x288 with 2 Axes>"
      ]
     },
     "metadata": {
      "needs_background": "light"
     },
     "output_type": "display_data"
    }
   ],
   "source": [
    "#Main heatmap plot\n",
    "fig = plt.figure(1)\n",
    "ax = plt.subplot()\n",
    "#max accel line - 0. \n",
    "currentT = timeslice * gDT\n",
    "print(\"Current time in process: \", currentT)\n",
    "timeToRed = gTR - currentT\n",
    "\n",
    "#--------------------------Max accel line calculation - can be plotted if desired--------------------------------\n",
    "vCritical = gVMax - gBeta * timeToRed\n",
    "vThreshLinear = gAlpha * timeToRed * (1 + np.sqrt(1 + (gBeta / gAlpha)))\n",
    "parabExtensionA = (gBeta + gAlpha) / (2 * gAlpha * gBeta)\n",
    "parabExtensionB = -gVMax / gBeta\n",
    "parabExtensionC = (gVMax**2) / (2 * gBeta) -timeToRed * gVMax\n",
    "parabExtensionVelThresh = (-parabExtensionB + np.sqrt((parabExtensionB**2) - 4 *parabExtensionA * parabExtensionC)) / (2 * parabExtensionA)\n",
    "vThreshParab = (-parabExtensionB + np.sqrt((parabExtensionB**2) - 4 *parabExtensionA * parabExtensionC)) / (2 * parabExtensionA);\n",
    "officialVThresh = vThreshLinear\n",
    "if vCritical < vThreshLinear:\n",
    "    officialVThresh = vThreshParab \n",
    "\n",
    "maxAccelLine = []\n",
    "maxAccelLineT5 = []\n",
    "velVals = np.linspace(0, gVMax, gVNum)\n",
    "for i in range (0, len(velVals)):\n",
    "    v = velVals[i]\n",
    "    d = 0\n",
    "    timeToMaxV = (gVMax - v)\n",
    "    if v < vCritical:\n",
    "        d = v * (gTR - currentT) + 0.5*gBeta * (gTR - currentT)**2\n",
    "    else:\n",
    "        d = (-(v**2) / (2 * gBeta)) + ((v * gVMax) / gBeta) - (0.5 * (gVMax**2) / gBeta) + timeToRed*gVMax  \n",
    "    maxAccelLine.append(d)\n",
    "    \n",
    "# Max accel line target \n",
    "maxAccelLineTarget = []\n",
    "for i in range (0, len(velVals)):\n",
    "    v = velVals[i]\n",
    "    d = gDTarget + v * (gTerminalT - currentT) + 0.5*gBeta*(gTerminalT - currentT)**2\n",
    "    maxAccelLineTarget.append(d)\n",
    "#------------------------------------Parab of last resort calculation - can be plotted if desired----------------------    \n",
    "parabOfLastResort = []\n",
    "for i in range (0, len(velVals)):\n",
    "    v = velVals[i]\n",
    "    d = (v**2) / (2 * gAlpha)\n",
    "    parabOfLastResort.append(d)\n",
    "\n",
    "##-----------------------------------------Plotting------------------------------------------------------------------------\n",
    "plt.imshow(plottingData, cmap=plt.get_cmap('jet'), extent=[gDTarget,gDMax,0,gVMax], vmin = gAlpha, vmax = gBeta, interpolation='none')\n",
    "#title = ax.set_title(label='$t = T_Y + 2s$', fontdict = {'fontsize':24},loc='center')\n",
    "plt.xlabel('Position ($m$)')\n",
    "plt.ylabel('Velocity ($m/s$)')\n",
    "plt.colorbar(label='Acceleration ($m/s^2$)') \n",
    "plt.clim([-gAlpha, gBeta]) #update colorbar colors \n",
    "plt.xlim([gDTarget,  gDMax])\n",
    "plt.gca().set_aspect('auto')\n",
    "\n",
    "#if(timeslice >= (gTR / gDT)):\n",
    "    #ax.plot(parabOfLastResort,velVals,color= 'red', linewidth=1, label='$d_{\\alpha}$')\n",
    "       \n",
    "plt.show()\n",
    "\n",
    "if problemSelector == 4:\n",
    "    #Main heatmap plot\n",
    "    fig2 = plt.figure(2)\n",
    "    ax2 = plt.subplot()\n",
    "    #max accel line - 0. \n",
    "    currentT = timeslice * gDT\n",
    "    print(\"Current time in process: \", currentT)\n",
    "    timeToRed = gTR - currentT\n",
    "\n",
    "    #--------------------------Max accel line calculation - can be plotted if desired--------------------------------\n",
    "    vCritical = gVMax - gBeta * timeToRed\n",
    "    vThreshLinear = gAlpha * timeToRed * (1 + np.sqrt(1 + (gBeta / gAlpha)))\n",
    "    parabExtensionA = (gBeta + gAlpha) / (2 * gAlpha * gBeta)\n",
    "    parabExtensionB = -gVMax / gBeta\n",
    "    parabExtensionC = (gVMax**2) / (2 * gBeta) -timeToRed * gVMax\n",
    "    parabExtensionVelThresh = (-parabExtensionB + np.sqrt((parabExtensionB**2) - 4 *parabExtensionA * parabExtensionC)) / (2 * parabExtensionA)\n",
    "    vThreshParab = (-parabExtensionB + np.sqrt((parabExtensionB**2) - 4 *parabExtensionA * parabExtensionC)) / (2 * parabExtensionA);\n",
    "    officialVThresh = vThreshLinear\n",
    "    if vCritical < vThreshLinear:\n",
    "        officialVThresh = vThreshParab \n",
    "\n",
    "    maxAccelLine = []\n",
    "    maxAccelLineT5 = []\n",
    "    velVals = np.linspace(0, gVMax, gVNum)\n",
    "    for i in range (0, len(velVals)):\n",
    "        v = velVals[i]\n",
    "        d = 0\n",
    "        timeToMaxV = (gVMax - v)\n",
    "        if v < vCritical:\n",
    "            d = v * (gTR - currentT) + 0.5*gBeta * (gTR - currentT)**2\n",
    "        else:\n",
    "            d = (-(v**2) / (2 * gBeta)) + ((v * gVMax) / gBeta) - (0.5 * (gVMax**2) / gBeta) + timeToRed*gVMax  \n",
    "        maxAccelLine.append(d)\n",
    "\n",
    "    # Max accel line target \n",
    "    maxAccelLineTarget = []\n",
    "    for i in range (0, len(velVals)):\n",
    "        v = velVals[i]\n",
    "        d = gDTarget + v * (gTerminalT - currentT) + 0.5*gBeta*(gTerminalT - currentT)**2\n",
    "        maxAccelLineTarget.append(d)\n",
    "    #------------------------------------Parab of last resort calculation - can be plotted if desired----------------------    \n",
    "    parabOfLastResort = []\n",
    "    for i in range (0, len(velVals)):\n",
    "        v = velVals[i]\n",
    "        d = (v**2) / (2 * gAlpha)\n",
    "        parabOfLastResort.append(d)\n",
    "\n",
    "    ##-----------------------------------------Plotting------------------------------------------------------------------------\n",
    "    plt.imshow(plottingData2, cmap=plt.get_cmap('jet'), extent=[gDTarget,gDMax,0,gVMax], vmin = gAlpha, vmax = gBeta, interpolation='none')\n",
    "    #title = ax.set_title(label='$t = T_Y + 2s$', fontdict = {'fontsize':24},loc='center')\n",
    "    plt.xlabel('Position ($m$)')\n",
    "    plt.ylabel('Velocity ($m/s$)')\n",
    "    plt.colorbar(label='Acceleration ($m/s^2$)') \n",
    "    plt.clim([-gAlpha, gBeta]) #update colorbar colors \n",
    "    plt.xlim([gDTarget,  gDMax])\n",
    "    plt.gca().set_aspect('auto')\n",
    "\n",
    "    #if(timeslice >= (gTR / gDT)):\n",
    "        #ax.plot(parabOfLastResort,velVals,color= 'red', linewidth=1, label='$d_{\\alpha}$')\n",
    "\n",
    "    plt.show()\n",
    "    \n",
    "    #Main heatmap plot\n",
    "    fig3 = plt.figure(3)\n",
    "    ax = plt.subplot()\n",
    "    #max accel line - 0. \n",
    "    currentT = timeslice * gDT\n",
    "    print(\"Current time in process: \", currentT)\n",
    "    timeToRed = gTR - currentT\n",
    "\n",
    "    #--------------------------Max accel line calculation - can be plotted if desired--------------------------------\n",
    "    vCritical = gVMax - gBeta * timeToRed\n",
    "    vThreshLinear = gAlpha * timeToRed * (1 + np.sqrt(1 + (gBeta / gAlpha)))\n",
    "    parabExtensionA = (gBeta + gAlpha) / (2 * gAlpha * gBeta)\n",
    "    parabExtensionB = -gVMax / gBeta\n",
    "    parabExtensionC = (gVMax**2) / (2 * gBeta) -timeToRed * gVMax\n",
    "    parabExtensionVelThresh = (-parabExtensionB + np.sqrt((parabExtensionB**2) - 4 *parabExtensionA * parabExtensionC)) / (2 * parabExtensionA)\n",
    "    vThreshParab = (-parabExtensionB + np.sqrt((parabExtensionB**2) - 4 *parabExtensionA * parabExtensionC)) / (2 * parabExtensionA);\n",
    "    officialVThresh = vThreshLinear\n",
    "    if vCritical < vThreshLinear:\n",
    "        officialVThresh = vThreshParab \n",
    "\n",
    "    maxAccelLine = []\n",
    "    maxAccelLineT5 = []\n",
    "    velVals = np.linspace(0, gVMax, gVNum)\n",
    "    for i in range (0, len(velVals)):\n",
    "        v = velVals[i]\n",
    "        d = 0\n",
    "        timeToMaxV = (gVMax - v)\n",
    "        if v < vCritical:\n",
    "            d = v * (gTR - currentT) + 0.5*gBeta * (gTR - currentT)**2\n",
    "        else:\n",
    "            d = (-(v**2) / (2 * gBeta)) + ((v * gVMax) / gBeta) - (0.5 * (gVMax**2) / gBeta) + timeToRed*gVMax  \n",
    "        maxAccelLine.append(d)\n",
    "\n",
    "    # Max accel line target \n",
    "    maxAccelLineTarget = []\n",
    "    for i in range (0, len(velVals)):\n",
    "        v = velVals[i]\n",
    "        d = gDTarget + v * (gTerminalT - currentT) + 0.5*gBeta*(gTerminalT - currentT)**2\n",
    "        maxAccelLineTarget.append(d)\n",
    "    #------------------------------------Parab of last resort calculation - can be plotted if desired----------------------    \n",
    "    parabOfLastResort = []\n",
    "    for i in range (0, len(velVals)):\n",
    "        v = velVals[i]\n",
    "        d = (v**2) / (2 * gAlpha)\n",
    "        parabOfLastResort.append(d)\n",
    "\n",
    "    ##-----------------------------------------Plotting------------------------------------------------------------------------\n",
    "    plt.imshow(plottingData3, cmap=plt.get_cmap('jet'), extent=[gDTarget,gDMax,0,gVMax], vmin = gAlpha, vmax = gBeta, interpolation='none')\n",
    "    #title = ax.set_title(label='$t = T_Y + 2s$', fontdict = {'fontsize':24},loc='center')\n",
    "    plt.xlabel('Position ($m$)')\n",
    "    plt.ylabel('Velocity ($m/s$)')\n",
    "    plt.colorbar(label='Acceleration ($m/s^2$)') \n",
    "    plt.clim([-gAlpha, gBeta]) #update colorbar colors \n",
    "    plt.xlim([gDTarget,  gDMax])\n",
    "    plt.gca().set_aspect('auto')\n",
    "\n",
    "    #if(timeslice >= (gTR / gDT)):\n",
    "        #ax.plot(parabOfLastResort,velVals,color= 'red', linewidth=1, label='$d_{\\alpha}$')\n",
    "\n",
    "    plt.show()"
   ]
  },
  {
   "cell_type": "code",
   "execution_count": null,
   "metadata": {},
   "outputs": [],
   "source": []
  },
  {
   "cell_type": "code",
   "execution_count": null,
   "metadata": {},
   "outputs": [],
   "source": []
  }
 ],
 "metadata": {
  "kernelspec": {
   "display_name": "Python 3",
   "language": "python",
   "name": "python3"
  },
  "language_info": {
   "codemirror_mode": {
    "name": "ipython",
    "version": 3
   },
   "file_extension": ".py",
   "mimetype": "text/x-python",
   "name": "python",
   "nbconvert_exporter": "python",
   "pygments_lexer": "ipython3",
   "version": "3.8.5"
  }
 },
 "nbformat": 4,
 "nbformat_minor": 4
}

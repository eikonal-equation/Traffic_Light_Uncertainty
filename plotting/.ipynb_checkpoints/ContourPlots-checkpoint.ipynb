{
 "cells": [
  {
   "cell_type": "markdown",
   "metadata": {},
   "source": [
    "# Optimal Driving - Value Function Contours"
   ]
  },
  {
   "cell_type": "markdown",
   "metadata": {},
   "source": [
    "This notebook produces contour plots of the value function for the Optimal Driving Framework."
   ]
  },
  {
   "cell_type": "markdown",
   "metadata": {},
   "source": [
    "## Import Statements:"
   ]
  },
  {
   "cell_type": "code",
   "execution_count": 31,
   "metadata": {},
   "outputs": [],
   "source": [
    "import numpy as np\n",
    "import matplotlib.style as style\n",
    "import matplotlib as mpl\n",
    "import matplotlib.pyplot as plt\n",
    "import matplotlib.animation as animation\n",
    "from matplotlib import cm\n",
    "from mpl_toolkits import mplot3d\n",
    "import matplotlib.ticker as mticker\n",
    "from matplotlib.ticker import LinearLocator, FormatStrFormatter\n",
    "from matplotlib import animation\n",
    "from matplotlib.animation import FuncAnimation, PillowWriter\n",
    "import math\n",
    "import os\n",
    "import sys"
   ]
  },
  {
   "cell_type": "markdown",
   "metadata": {},
   "source": [
    "### In-text plots toggle:\n",
    "\n",
    "Uncomment the code in the cell below to view the plots in a separate window."
   ]
  },
  {
   "cell_type": "code",
   "execution_count": 32,
   "metadata": {},
   "outputs": [],
   "source": [
    "#%matplotlib qt"
   ]
  },
  {
   "cell_type": "markdown",
   "metadata": {},
   "source": [
    "## Problem Selection:\n",
    "\n",
    "Select problem results to view according to numbering scheme:\n",
    "\n",
    "    1. Stationary (Phase $G$).\n",
    "    2. Red-Green.\n",
    "    3. Yellow-Red-Green.\n",
    "    4. Uncertain Green Duration, 2 light lengths.\n",
    "    5. Uncertain Green Duration, 3 light lengths."
   ]
  },
  {
   "cell_type": "code",
   "execution_count": 33,
   "metadata": {},
   "outputs": [
    {
     "name": "stdout",
     "output_type": "stream",
     "text": [
      "Problem Number: 1\n"
     ]
    }
   ],
   "source": [
    "indexChoices = [1,2,3,4,5]\n",
    "problemSelector = int(input(\"Problem Number: \")) #user specified timeslice to plot\n",
    "if problemSelector not in indexChoices: \n",
    "    print (\"No such problem index, invalid choice'\")\n",
    "    sys.exit() #kill the program if user-specified N is out of bounds"
   ]
  },
  {
   "cell_type": "markdown",
   "metadata": {},
   "source": [
    "## Read in Parameters:"
   ]
  },
  {
   "cell_type": "code",
   "execution_count": 34,
   "metadata": {},
   "outputs": [],
   "source": [
    "paramFileName = 'FileName'\n",
    "\n",
    "if problemSelector == 1:\n",
    "    paramFileName = '../output/stationary_params'\n",
    "elif problemSelector == 2:\n",
    "    paramFileName = '../output/rg_params'\n",
    "elif problemSelector == 3:\n",
    "    paramFileName = '../output/yrg_params'\n",
    "elif problemSelector == 4:\n",
    "    paramFileName = '../output/uncertain_green_params_2L'\n",
    "elif problemSelector == 5:\n",
    "    paramFileName = '../output/uncertain_green_params_3L'"
   ]
  },
  {
   "cell_type": "code",
   "execution_count": 35,
   "metadata": {},
   "outputs": [],
   "source": [
    "gInUncertainGreenPhase = 1; \n",
    "\n",
    "with open('%s.txt' %paramFileName) as f:    \n",
    "    \n",
    "    #Parameter Key\n",
    "    paramKey = f.readline()\n",
    "    #paramVals = [float(num) for num in line1.split(' ')]\n",
    "    \n",
    "    #Param values\n",
    "    line2 = f.readline()\n",
    "    paramVals = [float(num) for num in line2.split(' ')]\n",
    "    \n",
    "    line3 =f.readline()\n",
    "    \n",
    "    #Uncertain green info\n",
    "    line4 = f.readline()\n",
    "    stochLightInfo = [float(num) for num in line4.split(' ')]\n",
    "    \n",
    "    line5 = f.readline()\n",
    "    \n",
    "    #Sampling info (not currently used)\n",
    "    line6 = f.readline()\n",
    "    samplingInfo = [float(num) for num in line6.split(' ')]"
   ]
  },
  {
   "cell_type": "markdown",
   "metadata": {},
   "source": [
    "### Parameter Definitions:"
   ]
  },
  {
   "cell_type": "code",
   "execution_count": 36,
   "metadata": {},
   "outputs": [
    {
     "name": "stdout",
     "output_type": "stream",
     "text": [
      "Terminal Time:  10000000.0\n",
      "Maximum Time Index:  40000000.0\n"
     ]
    }
   ],
   "source": [
    "gDPos = paramVals[0]\n",
    "\n",
    "gDVel = paramVals[1]\n",
    "\n",
    "gDT = paramVals[2]\n",
    "\n",
    "gDMax = paramVals[3]\n",
    "\n",
    "gVMax = paramVals[4]\n",
    "\n",
    "gDTarget = paramVals[5]\n",
    "\n",
    "gLightLength = paramVals[6]\n",
    "\n",
    "gDNum = int(paramVals[7])\n",
    "\n",
    "gVNum = int(paramVals[8])\n",
    "\n",
    "gNt = int(paramVals[9])\n",
    "\n",
    "gAlpha = paramVals[10]\n",
    "\n",
    "gBeta = paramVals[11]\n",
    "\n",
    "gTG = paramVals[12]\n",
    "\n",
    "gTR = paramVals[13]\n",
    "\n",
    "gTerminalT = paramVals[14]\n",
    "print(\"Terminal Time: \", gTerminalT)\n",
    "gAccelInfty = paramVals[15]\n",
    "\n",
    "gN = gVNum #how it's set in code \n",
    "\n",
    "gInfty = 10000000 \n",
    "\n",
    "forbiddenAccel = np.nan\n",
    "\n",
    "##========================================STOCHASTIC LIGHT INFO====================================================\n",
    "if gInUncertainGreenPhase == 1:\n",
    "    gTY1 = stochLightInfo[0]\n",
    "    gTY2 = stochLightInfo[1]\n",
    "    gTYP1 = stochLightInfo[2]\n",
    "    gTYP2 = stochLightInfo[3]\n",
    "    gYellowDuration = stochLightInfo[4]\n",
    "    gRedDuration = stochLightInfo[5]\n",
    "    gTR = stochLightInfo[6]\n",
    "    gTG = stochLightInfo[7]\n",
    "\n",
    "##=======================================SAMPLING DETAILS==========================================================\n",
    "gSamplingTNumThresh = samplingInfo[0]\n",
    "gSliceSampleSpacing = samplingInfo[1]\n",
    "\n",
    "if (gNt < gSamplingTNumThresh):\n",
    "    gSliceSampleSpacing = 1\n",
    "       \n",
    "maxSliceIndex = gNt / gSliceSampleSpacing\n",
    "\n",
    "print(\"Maximum Time Index: \", maxSliceIndex)\n",
    "\n",
    "prohibitedVal = gInfty"
   ]
  },
  {
   "cell_type": "markdown",
   "metadata": {},
   "source": [
    "## Timeslice Selection:\n",
    "\n",
    "Enter time index corresponding to the time at which you wish to view the value function contour still."
   ]
  },
  {
   "cell_type": "code",
   "execution_count": 37,
   "metadata": {},
   "outputs": [
    {
     "name": "stdout",
     "output_type": "stream",
     "text": [
      "Timeslice index: 0\n"
     ]
    }
   ],
   "source": [
    "timeslice = int(input(\"Timeslice index: \")) #user specified timeslice to plot\n",
    "sampleSlice = timeslice / gSliceSampleSpacing \n",
    "sampleSliceMod = timeslice % gSliceSampleSpacing \n",
    "if sampleSlice > maxSliceIndex or sampleSliceMod != 0: \n",
    "    print (\"Time out of bounds, invalid choice'\")\n",
    "    sys.exit() #kill the program if user-specified N is out of bounds\n",
    "    \n",
    "mpl.rcParams['font.size'] = 18"
   ]
  },
  {
   "cell_type": "markdown",
   "metadata": {},
   "source": [
    "## Data Processing:"
   ]
  },
  {
   "cell_type": "code",
   "execution_count": 38,
   "metadata": {},
   "outputs": [],
   "source": [
    "fileName = 'FileName'\n",
    "fileName2 = 'FileName'\n",
    "fileName3 = 'FileName'\n",
    "if problemSelector == 1:\n",
    "    fileName = '../output/stationary_valuefn'\n",
    "elif problemSelector == 2:\n",
    "    fileName = '../output/rg_valuefn'\n",
    "elif problemSelector == 3:\n",
    "    fileName = '../output/yrg_valuefn_c2_0.33'\n",
    "elif problemSelector == 4:\n",
    "    fileName = '../output/uncertain_green_valuefn_2L_c2_0.33_p1_0.50_p2_0.50'\n",
    "    fileName2 = '../output/uncertain_green_valuefn_2L_c2_0.33_p1_0.95_p2_0.05'\n",
    "    fileName3 = '../output/uncertain_green_valuefn_2L_c2_0.75_p1_0.50_p2_0.50'\n",
    "elif problemSelector == 5:\n",
    "    fileName = '../output/uncertain_green_valuefn_3L_c2_0.33_p1_0.25_p2_0.25_p3_0.50'"
   ]
  },
  {
   "cell_type": "code",
   "execution_count": 39,
   "metadata": {},
   "outputs": [
    {
     "name": "stdout",
     "output_type": "stream",
     "text": [
      "Current time in process:  0.0\n"
     ]
    }
   ],
   "source": [
    "##Select File:\n",
    "data  = np.loadtxt('%s.txt' %fileName)\n",
    "data2  = np.loadtxt('%s.txt' %fileName)\n",
    "data3  = np.loadtxt('%s.txt' %fileName)\n",
    "if problemSelector == 4:\n",
    "    data2 = np.loadtxt('%s.txt' %fileName2) \n",
    "    data3 = np.loadtxt('%s.txt' %fileName3) \n",
    "\n",
    "currentT = timeslice * gDT\n",
    "print(\"Current time in process: \", currentT)\n",
    "\n",
    "#-----------------------------------------Max accel line computation- can be plotted if desired------------------------\n",
    "timeToRed = gTR - currentT\n",
    "vCritical = gVMax - gBeta * timeToRed\n",
    "vThreshLinear = gAlpha * timeToRed * (1 + np.sqrt(1 + (gBeta / gAlpha)))\n",
    "parabExtensionA = (gBeta + gAlpha) / (2 * gAlpha * gBeta)\n",
    "parabExtensionB = -gVMax / gBeta\n",
    "parabExtensionC = (gVMax**2) / (2 * gBeta) -timeToRed * gVMax\n",
    "parabExtensionVelThresh = (-parabExtensionB + np.sqrt((parabExtensionB**2) - 4 *parabExtensionA * parabExtensionC)) / (2 * parabExtensionA)\n",
    "vThreshParab = (-parabExtensionB + np.sqrt((parabExtensionB**2) - 4 *parabExtensionA * parabExtensionC)) / (2 * parabExtensionA);\n",
    "officialVThresh = vThreshLinear\n",
    "if vCritical < vThreshLinear:\n",
    "    officialVThresh = vThreshParab \n",
    "\n",
    "maxAccelLine = []\n",
    "velVals = np.linspace(0, gVMax, gVNum)\n",
    "for i in range (0, len(velVals)):\n",
    "    v = velVals[i]\n",
    "    d = 0\n",
    "    timeToMaxV = (gVMax - v)\n",
    "    if v < vCritical:\n",
    "        d = v * (gTR - currentT) + 0.5*gBeta * (gTR - currentT)**2\n",
    "    else:\n",
    "        d = (-(v**2) / (2 * gBeta)) + ((v * gVMax) / gBeta) - (0.5 * (gVMax**2) / gBeta) + timeToRed*gVMax  \n",
    "    maxAccelLine.append(d)\n",
    "##Starting and ending time indices for matrix extraction \n",
    "start = int(timeslice*(gDNum+1)) \n",
    "end = int(start + gDNum + 1)\n",
    "\n",
    "## -----------------------------------------Data processing------------------------------------------------------------\n",
    "#extract the matrix for the user specifed slice \n",
    "plottingData = data[start:end]\n",
    "plottingData2 = data2[start:end]\n",
    "plottingData3 = data3[start:end]\n",
    "\n",
    "#flip the plotting data correctly to plot starting from the bottom left corner\n",
    "plottingData = np.transpose(plottingData) #rows first become columns \n",
    "\n",
    "#Go through data and reset infty to nan\n",
    "for j in range (0, gVNum+1):\n",
    "    for i in range (0, gDNum+1):\n",
    "        if plottingData[j][i] >= gInfty:\n",
    "            nanVal = np.nan\n",
    "            plottingData[j][i] = nanVal\n",
    "\n",
    "if problemSelector == 4:\n",
    "    data2 = np.loadtxt('%s.txt' %fileName2) \n",
    "    data3 = np.loadtxt('%s.txt' %fileName3) \n",
    "    start = int(sampleSlice * (gDNum + 1))\n",
    "    end = int(start + gDNum + 1)\n",
    "\n",
    "    #extract the matrix for the user specifed slice \n",
    "    plottingData2 = data2[start:end]\n",
    "    plottingData3 = data3[start:end]\n",
    "    \n",
    "    #flip the plotting data correctly to plot starting from the bottom left corner\n",
    "    plottingData2 = np.transpose(plottingData2) #rows first become columns \n",
    "    plottingData3 = np.transpose(plottingData3) #rows first become columns \n",
    "\n",
    "    #Go through data and reset accel infty to nan\n",
    "    for j in range (0, gVNum):\n",
    "        for i in range (0, gDNum):\n",
    "            if plottingData2[j][i] == prohibitedVal:\n",
    "                nanVal = np.nan\n",
    "                plottingData2[j][i] = nanVal\n",
    "            if plottingData3[j][i] == prohibitedVal:\n",
    "                nanVal = np.nan\n",
    "                plottingData3[j][i] = nanVal"
   ]
  },
  {
   "cell_type": "markdown",
   "metadata": {},
   "source": [
    "## Value Function Contour Plotting "
   ]
  },
  {
   "cell_type": "code",
   "execution_count": 41,
   "metadata": {},
   "outputs": [],
   "source": [
    "##-------------Meshgrid formation with d,v values------------- \n",
    "d = np.linspace(gDTarget, gDMax, gDNum)\n",
    "v = np.linspace(0, gVMax, gVNum)\n",
    "d = np.append(d, gDMax)\n",
    "v = np.append(v, gVMax)\n",
    "D, V = np.meshgrid(d, v)\n",
    "\n",
    "##---------------Contour plotting-------------------------\n",
    "plt.figure(1)\n",
    "\n",
    "contourPlot = plt.contour(D, V, plottingData, 10, colors = 'black')\n",
    "plt.clabel(contourPlot, inline=True, fontsize=8) #turn on for contour labels\n",
    "plt.imshow(plottingData, extent=[gDTarget,gDMax,0,gVMax], origin='lower', alpha=0.75)\n",
    "#plt.plot(maxAccelLine,velVals, c='white', linewidth = 2, label = '$d_{\\beta}$ if $T_{Y} = $')\n",
    "\n",
    "plt.xlabel('Position ($m$)')\n",
    "plt.ylabel('Velocity ($m/s$)')\n",
    "#plt.colorbar(label='$u(d, v, t)$') #Note: change manually to w in uncertain phase\n",
    "#plt.colorbar(label='$w^2(d, v, t)$') #Note: change manually to w in uncertain phase\n",
    "plt.colorbar(label='$q(d, v)$') #Note: change manually in indef green\n",
    "plt.gca().set_aspect('auto')\n",
    "\n",
    "if problemSelector == 4:\n",
    "    plt.figure(2)\n",
    "\n",
    "    contourPlot2 = plt.contour(D, V, plottingData2, 10, colors = 'black')\n",
    "    plt.clabel(contourPlot2, inline=True, fontsize=8) #turn on for contour labels\n",
    "    plt.imshow(plottingData2, extent=[gDTarget,gDMax,0,gVMax], origin='lower', alpha=0.75)\n",
    "    #plt.plot(maxAccelLine,velVals, c='white', linewidth = 2, label = '$d_{\\beta}$ if $T_{Y} = $')\n",
    "\n",
    "    plt.xlabel('Position ($m$)')\n",
    "    plt.ylabel('Velocity ($m/s$)')\n",
    "    #plt.colorbar(label='$u(d, v, t)$') \n",
    "    plt.colorbar(label='$w^1(d, v, t)$')\n",
    "    plt.gca().set_aspect('auto')\n",
    "\n",
    "    plt.figure(3)\n",
    "\n",
    "    contourPlot3 = plt.contour(D, V, plottingData3, 10, colors = 'black')\n",
    "    plt.clabel(contourPlot3, inline=True, fontsize=8) #turn on for contour labels\n",
    "    plt.imshow(plottingData3, extent=[gDTarget,gDMax,0,gVMax], origin='lower', alpha=0.75)\n",
    "    #plt.plot(maxAccelLine,velVals, c='white', linewidth = 2, label = '$d_{\\beta}$ if $T_{Y} = $')\n",
    "\n",
    "    plt.xlabel('Position ($m$)')\n",
    "    plt.ylabel('Velocity ($m/s$)')\n",
    "    #plt.colorbar(label='$u(d, v, t)$')\n",
    "    plt.colorbar(label='$w^1(d, v, t)$')\n",
    "    plt.gca().set_aspect('auto')"
   ]
  },
  {
   "cell_type": "code",
   "execution_count": null,
   "metadata": {},
   "outputs": [],
   "source": []
  }
 ],
 "metadata": {
  "kernelspec": {
   "display_name": "Python 3",
   "language": "python",
   "name": "python3"
  },
  "language_info": {
   "codemirror_mode": {
    "name": "ipython",
    "version": 3
   },
   "file_extension": ".py",
   "mimetype": "text/x-python",
   "name": "python",
   "nbconvert_exporter": "python",
   "pygments_lexer": "ipython3",
   "version": "3.8.5"
  }
 },
 "nbformat": 4,
 "nbformat_minor": 4
}

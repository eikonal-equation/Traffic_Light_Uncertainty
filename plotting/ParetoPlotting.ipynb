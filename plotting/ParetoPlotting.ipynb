{
 "cells": [
  {
   "cell_type": "markdown",
   "metadata": {},
   "source": [
    "# Optimal Driving - Pareto Front"
   ]
  },
  {
   "cell_type": "markdown",
   "metadata": {},
   "source": [
    "This notebook plots the Pareto front shown in Example 0 of the Optimal Driving manuscript."
   ]
  },
  {
   "cell_type": "markdown",
   "metadata": {},
   "source": [
    "## Import Statements:"
   ]
  },
  {
   "cell_type": "code",
   "execution_count": 1,
   "metadata": {},
   "outputs": [],
   "source": [
    "import numpy as np\n",
    "import matplotlib.style as style\n",
    "import matplotlib as mpl\n",
    "import matplotlib.pyplot as plt\n",
    "import math\n",
    "from mpl_toolkits.mplot3d import Axes3D\n",
    "from scipy.interpolate import griddata\n",
    "from matplotlib import cm"
   ]
  },
  {
   "cell_type": "markdown",
   "metadata": {},
   "source": [
    "### In-text plots toggle:\n",
    "\n",
    "Uncomment the code in the cell below to view the plots in a separate window."
   ]
  },
  {
   "cell_type": "code",
   "execution_count": 2,
   "metadata": {},
   "outputs": [],
   "source": [
    "#%matplotlib qt"
   ]
  },
  {
   "cell_type": "markdown",
   "metadata": {},
   "source": [
    "## Plotting the Phase $G_2$, $\\mathcal{J}_3$-Constrained Pareto Front - Multiple Curves:\n",
    "\n",
    "This section produces a plot of the $\\mathcal{J}_3$-Constrained Pareto Front during the indefinite green-light phase for various maximum time-to-target allowances."
   ]
  },
  {
   "cell_type": "markdown",
   "metadata": {},
   "source": [
    "### Data Processing:"
   ]
  },
  {
   "cell_type": "code",
   "execution_count": 3,
   "metadata": {},
   "outputs": [],
   "source": [
    "mpl.rcParams['font.size'] = 18\n",
    "\n",
    "#Read txt file and sort each line into its own list\n",
    "with open('../output/pareto_front_stationary_j3const_1.txt') as f:\n",
    "    #c values\n",
    "    line1 = f.readline()\n",
    "    discomfortCosts1 = [float(num) for num in line1.split(' ')]\n",
    "    \n",
    "    #Discomfort costs\n",
    "    line2 = f.readline()\n",
    "    fuelCosts1 = [float(num) for num in line2.split(' ')]\n",
    "    \n",
    "    #KE Losses\n",
    "    line3 = f.readline()\n",
    "    timesToTarget1 = [float(num) for num in line3.split(' ')]\n",
    "    \n",
    "    line4 = f.readline()\n",
    "    c1Vals1 = [float(num) for num in line4.split(' ')]\n",
    "    \n",
    "    line5 = f.readline()\n",
    "    c2Vals1 = [float(num) for num in line5.split(' ')]\n",
    "    \n",
    "    line6 = f.readline()\n",
    "    c3Vals1 = [float(num) for num in line6.split(' ')]\n",
    "\n",
    "with open('../output/pareto_front_stationary_j3const_2.txt') as g:\n",
    "    #c values\n",
    "    line1 = g.readline()\n",
    "    discomfortCosts2 = [float(num) for num in line1.split(' ')]\n",
    "    \n",
    "    #Discomfort costs\n",
    "    line2 = g.readline()\n",
    "    fuelCosts2 = [float(num) for num in line2.split(' ')]\n",
    "    \n",
    "    #KE Losses\n",
    "    line3 = g.readline()\n",
    "    timesToTarget2 = [float(num) for num in line3.split(' ')]\n",
    "    \n",
    "    line4 = g.readline()\n",
    "    c1Vals2 = [float(num) for num in line4.split(' ')]\n",
    "    \n",
    "    line5 = g.readline()\n",
    "    c2Vals2 = [float(num) for num in line5.split(' ')]\n",
    "    \n",
    "    line6 = g.readline()\n",
    "    c3Vals2 = [float(num) for num in line6.split(' ')]\n",
    "\n",
    "with open('../output/pareto_front_stationary_j3const_3.txt') as h:\n",
    "    line1 = h.readline()\n",
    "    discomfortCosts3 = [float(num) for num in line1.split(' ')]\n",
    "    \n",
    "    #Discomfort costs\n",
    "    line2 = h.readline()\n",
    "    fuelCosts3 = [float(num) for num in line2.split(' ')]\n",
    "    \n",
    "    #KE Losses\n",
    "    line3 = h.readline()\n",
    "    timesToTarget3 = [float(num) for num in line3.split(' ')]\n",
    "    \n",
    "    line4 = h.readline()\n",
    "    c1Vals3 = [float(num) for num in line4.split(' ')]\n",
    "    \n",
    "    line5 = h.readline()\n",
    "    c2Vals3 = [float(num) for num in line5.split(' ')]\n",
    "    \n",
    "    line6 = h.readline()\n",
    "    c3Vals3 = [float(num) for num in line6.split(' ')]    \n",
    "\n",
    "j3ValCurve1 = timesToTarget1[0]\n",
    "j3ValCurve2 = timesToTarget2[0]\n",
    "j3ValCurve3 = timesToTarget3[0]"
   ]
  },
  {
   "cell_type": "markdown",
   "metadata": {},
   "source": [
    "### Plotting Code:"
   ]
  },
  {
   "cell_type": "code",
   "execution_count": 6,
   "metadata": {},
   "outputs": [
    {
     "data": {
      "text/plain": [
       "<matplotlib.legend.Legend at 0x7f7fefd79250>"
      ]
     },
     "execution_count": 6,
     "metadata": {},
     "output_type": "execute_result"
    }
   ],
   "source": [
    "fig = plt.figure(1)\n",
    "ax = plt.subplot()\n",
    "pareto1 = ax.scatter(fuelCosts1, discomfortCosts1, linewidth=1, label='$\\mathcal{J}_3 = %.0f s$' %j3ValCurve1) \n",
    "pareto2 = ax.scatter(fuelCosts2, discomfortCosts2, linewidth=1, label='$\\mathcal{J}_3 = %.0f s$' %j3ValCurve2) \n",
    "pareto3 = ax.scatter(fuelCosts3, discomfortCosts3, linewidth=1, label='$\\mathcal{J}_3 = %.0f s$' %j3ValCurve3) \n",
    " \n",
    "plt.xlabel(\"Fuel Cost\")\n",
    "plt.ylabel(\"Discomfort Cost\")\n",
    "\n",
    "plt.legend(loc='upper right', prop={'size': 14})"
   ]
  },
  {
   "cell_type": "code",
   "execution_count": null,
   "metadata": {},
   "outputs": [],
   "source": []
  }
 ],
 "metadata": {
  "kernelspec": {
   "display_name": "Python 3",
   "language": "python",
   "name": "python3"
  },
  "language_info": {
   "codemirror_mode": {
    "name": "ipython",
    "version": 3
   },
   "file_extension": ".py",
   "mimetype": "text/x-python",
   "name": "python",
   "nbconvert_exporter": "python",
   "pygments_lexer": "ipython3",
   "version": "3.8.5"
  }
 },
 "nbformat": 4,
 "nbformat_minor": 4
}

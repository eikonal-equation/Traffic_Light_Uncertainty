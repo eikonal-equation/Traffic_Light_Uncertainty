{
 "cells": [
  {
   "cell_type": "markdown",
   "metadata": {},
   "source": [
    "# Optimal Driving - Deterministic Trajectories"
   ]
  },
  {
   "cell_type": "markdown",
   "metadata": {},
   "source": [
    "This notebook produces stacked trajectory plots for the determinsitic light length problems in the Optimal Driving framework."
   ]
  },
  {
   "cell_type": "markdown",
   "metadata": {},
   "source": [
    "## Import Statements:"
   ]
  },
  {
   "cell_type": "code",
   "execution_count": 1,
   "metadata": {},
   "outputs": [],
   "source": [
    "import numpy as np\n",
    "import matplotlib.style as style\n",
    "import matplotlib as mpl\n",
    "import matplotlib.pyplot as plt\n",
    "import matplotlib.animation as animation\n",
    "from matplotlib import cm\n",
    "from mpl_toolkits import mplot3d\n",
    "import matplotlib.ticker as mticker\n",
    "from matplotlib.ticker import LinearLocator, FormatStrFormatter\n",
    "from matplotlib import animation\n",
    "from matplotlib.animation import FuncAnimation, PillowWriter\n",
    "import math\n",
    "import os\n",
    "import sys"
   ]
  },
  {
   "cell_type": "markdown",
   "metadata": {},
   "source": [
    "### In-text plots toggle:\n",
    "\n",
    "Uncomment the code in the cell below to view the plots in a separate window."
   ]
  },
  {
   "cell_type": "code",
   "execution_count": 2,
   "metadata": {},
   "outputs": [],
   "source": [
    "#%matplotlib qt"
   ]
  },
  {
   "cell_type": "markdown",
   "metadata": {},
   "source": [
    "## Problem Selection:\n",
    "\n",
    "Select problem results to view according to numbering scheme:\n",
    "\n",
    "    1. Stationary (Phase $G$).\n",
    "    2. Red-Green.\n",
    "    3. Yellow-Red-Green."
   ]
  },
  {
   "cell_type": "code",
   "execution_count": 3,
   "metadata": {},
   "outputs": [
    {
     "name": "stdout",
     "output_type": "stream",
     "text": [
      "Problem Number: 2\n"
     ]
    }
   ],
   "source": [
    "indexChoices = [1,2,3]\n",
    "problemSelector = int(input(\"Problem Number: \")) #user specified timeslice to plot\n",
    "if problemSelector not in indexChoices: \n",
    "    print (\"No such problem index, invalid choice'\")\n",
    "    sys.exit() #kill the program if user-specified N is out of bounds"
   ]
  },
  {
   "cell_type": "markdown",
   "metadata": {},
   "source": [
    "## Read In Parameters:"
   ]
  },
  {
   "cell_type": "code",
   "execution_count": 4,
   "metadata": {},
   "outputs": [],
   "source": [
    "paramFileName = 'FileName'\n",
    "\n",
    "if problemSelector == 1:\n",
    "    paramFileName = '../output/stationary_params'\n",
    "elif problemSelector == 2:\n",
    "    paramFileName = '../output/rg_params'\n",
    "elif problemSelector == 3:\n",
    "    paramFileName = '../output/yrg_params'"
   ]
  },
  {
   "cell_type": "code",
   "execution_count": 5,
   "metadata": {},
   "outputs": [],
   "source": [
    "gInUncertainGreenPhase = 1; \n",
    "\n",
    "with open('%s.txt' %paramFileName) as f:    \n",
    "    \n",
    "    #Parameter Key\n",
    "    paramKey = f.readline()\n",
    "    #paramVals = [float(num) for num in line1.split(' ')]\n",
    "    \n",
    "    #Param values\n",
    "    line2 = f.readline()\n",
    "    paramVals = [float(num) for num in line2.split(' ')]\n",
    "    \n",
    "    line3 =f.readline()\n",
    "    \n",
    "    #Uncertain green info\n",
    "    line4 = f.readline()\n",
    "    stochLightInfo = [float(num) for num in line4.split(' ')]\n",
    "    \n",
    "    line5 = f.readline()\n",
    "    \n",
    "    #Sampling info (not currently used)\n",
    "    line6 = f.readline()\n",
    "    samplingInfo = [float(num) for num in line6.split(' ')]"
   ]
  },
  {
   "cell_type": "markdown",
   "metadata": {},
   "source": [
    "### Parameter Definitions:"
   ]
  },
  {
   "cell_type": "code",
   "execution_count": 6,
   "metadata": {},
   "outputs": [
    {
     "name": "stdout",
     "output_type": "stream",
     "text": [
      "Terminal Time:  60.0\n",
      "Maximum Time Index:  2400.0\n"
     ]
    }
   ],
   "source": [
    "gDPos = paramVals[0]\n",
    "\n",
    "gDVel = paramVals[1]\n",
    "\n",
    "gDT = paramVals[2]\n",
    "\n",
    "gDMax = paramVals[3]\n",
    "\n",
    "gVMax = paramVals[4]\n",
    "\n",
    "gDTarget = paramVals[5]\n",
    "\n",
    "gLightLength = paramVals[6]\n",
    "\n",
    "gDNum = int(paramVals[7])\n",
    "\n",
    "gVNum = int(paramVals[8])\n",
    "\n",
    "gNt = int(paramVals[9])\n",
    "\n",
    "gAlpha = paramVals[10]\n",
    "\n",
    "gBeta = paramVals[11]\n",
    "\n",
    "gTG = paramVals[12]\n",
    "\n",
    "gTR = paramVals[13]\n",
    "\n",
    "gTerminalT = paramVals[14]\n",
    "print(\"Terminal Time: \", gTerminalT)\n",
    "gAccelInfty = paramVals[15]\n",
    "\n",
    "gN = gVNum #how it's set in code \n",
    "\n",
    "gInfty = 10000000 \n",
    "\n",
    "forbiddenAccel = np.nan\n",
    "\n",
    "##========================================STOCHASTIC LIGHT INFO====================================================\n",
    "if gInUncertainGreenPhase == 1:\n",
    "    gTY1 = stochLightInfo[0]\n",
    "    gTY2 = stochLightInfo[1]\n",
    "    gTYP1 = stochLightInfo[2]\n",
    "    gTYP2 = stochLightInfo[3]\n",
    "    gYellowDuration = stochLightInfo[4]\n",
    "    gRedDuration = stochLightInfo[5]\n",
    "    gTR = stochLightInfo[6]\n",
    "    gTG = stochLightInfo[7]\n",
    "\n",
    "##=======================================SAMPLING DETAILS==========================================================\n",
    "gSamplingTNumThresh = samplingInfo[0]\n",
    "gSliceSampleSpacing = samplingInfo[1]\n",
    "\n",
    "if (gNt < gSamplingTNumThresh):\n",
    "    gSliceSampleSpacing = 1\n",
    "       \n",
    "maxSliceIndex = gNt / gSliceSampleSpacing\n",
    "\n",
    "print(\"Maximum Time Index: \", maxSliceIndex)\n",
    "\n",
    "prohibitedVal = gAccelInfty"
   ]
  },
  {
   "cell_type": "markdown",
   "metadata": {},
   "source": [
    "## Trajectory Plotting:"
   ]
  },
  {
   "cell_type": "markdown",
   "metadata": {},
   "source": [
    "### Data Processing:"
   ]
  },
  {
   "cell_type": "code",
   "execution_count": 7,
   "metadata": {},
   "outputs": [],
   "source": [
    "traj1FileName = 'FileName'\n",
    "traj2FileName = 'FileName'\n",
    "\n",
    "if problemSelector == 1:\n",
    "    traj1FileName = '../output/stationary_opt_trajectory_d80.00v0.00.txt'\n",
    "elif problemSelector == 2:\n",
    "    traj1FileName = '../output/rg_opt_trajectory_d80.00v15.00.txt'\n",
    "    traj2FileName = '../output/rg_opt_trajectory_d80.00v0.00.txt'\n",
    "elif problemSelector == 3:\n",
    "    traj1FileName = '../output/yrg_opt_trajectory_d43.00v10.00.txt'\n",
    "    traj2FileName = '../output/yrg_opt_trajectory_d48.00v10.00.txt'"
   ]
  },
  {
   "cell_type": "code",
   "execution_count": 8,
   "metadata": {},
   "outputs": [],
   "source": [
    "mpl.rcParams['font.size'] = 18\n",
    "\n",
    "#Read txt file and sort each line into its own list\n",
    "with open(traj1FileName) as f:\n",
    "    \n",
    "    #Position values\n",
    "    line1 = f.readline()\n",
    "    positionTraj1 = [float(num) for num in line1.split(' ')]\n",
    "    #print(position)\n",
    "    #Velocity values\n",
    "    line2 = f.readline()\n",
    "    velocityTraj1 = [float(num) for num in line2.split(' ')]\n",
    "    #print(velocity)\n",
    "    #Time values \n",
    "    line3 = f.readline()\n",
    "    timeTraj1 = [float(num) for num in line3.split(' ')]\n",
    "    #print(time)\n",
    "    #OC Values \n",
    "    line4 = f.readline()\n",
    "    optimalControlTraj1 = [float(num) for num in line4.split(' ')]\n",
    "    #print(optimalControl)\n",
    "if problemSelector > 1:\n",
    "    with open(traj2FileName) as g:\n",
    "        #Position values\n",
    "        line1 = g.readline()\n",
    "        positionTraj2 = [float(num) for num in line1.split(' ')]\n",
    "        #print(position)\n",
    "        #Velocity values\n",
    "        line2 = g.readline()\n",
    "        velocityTraj2 = [float(num) for num in line2.split(' ')]\n",
    "        #print(velocity)\n",
    "        #Time values \n",
    "        line3 = g.readline()\n",
    "        timeTraj2 = [float(num) for num in line3.split(' ')]\n",
    "        #print(time)\n",
    "        #OC Values \n",
    "        line4 = g.readline()\n",
    "        optimalControlTraj2 = [float(num) for num in line4.split(' ')]"
   ]
  },
  {
   "cell_type": "markdown",
   "metadata": {},
   "source": [
    "### Plotting Code:"
   ]
  },
  {
   "cell_type": "code",
   "execution_count": 9,
   "metadata": {},
   "outputs": [],
   "source": [
    "#Plot horizontal axis\n",
    "fullHorizAxis = []\n",
    "\n",
    "minV = []\n",
    "turningGreenT = []\n",
    "turningRedT = []\n",
    "\n",
    "firstTraj = 0\n",
    "timeForHorizAxis = []\n",
    "\n",
    "if problemSelector > 1:\n",
    "    maxTime = max(timeTraj1[-1], timeTraj2[-1])\n",
    "    if maxTime == timeTraj1[-1] and problemSelector > 1:\n",
    "        firstTraj = 1\n",
    "        timeForHorizAxis = timeTraj1\n",
    "    else:\n",
    "        timeForHorizAxis = timeTraj2\n",
    "else:\n",
    "    timeForHorizAxis = timeTraj1\n",
    "for i in range (0, len(timeForHorizAxis)):\n",
    "    numPts = len(timeForHorizAxis)\n",
    "    spacing = (gDMax - gDTarget) / numPts\n",
    "    posVal = i * spacing \n",
    "    fullHorizAxis.append(posVal)\n",
    "\n",
    "vertAxis = np.linspace(gDTarget - 1, gDMax + 1, int(gDNum+1))\n",
    "\n",
    "for i in range (0, len(fullHorizAxis)):\n",
    "    minV.append(0)\n",
    "    \n",
    "for i in range (0, len(vertAxis)):\n",
    "    turningGreenT.append(gTG)\n",
    "    turningRedT.append(gTR)\n"
   ]
  },
  {
   "cell_type": "code",
   "execution_count": 10,
   "metadata": {},
   "outputs": [
    {
     "data": {
      "text/plain": [
       "<Figure size 432x288 with 0 Axes>"
      ]
     },
     "metadata": {},
     "output_type": "display_data"
    },
    {
     "data": {
      "image/png": "[encoded data removed]",
      "text/plain": [
       "<Figure size 432x288 with 3 Axes>"
      ]
     },
     "metadata": {
      "needs_background": "light"
     },
     "output_type": "display_data"
    },
    {
     "data": {
      "image/png": "[encoded data removed]",
      "text/plain": [
       "<Figure size 432x288 with 3 Axes>"
      ]
     },
     "metadata": {
      "needs_background": "light"
     },
     "output_type": "display_data"
    }
   ],
   "source": [
    "plt.figure(1)\n",
    "initialPos = positionTraj1[0]\n",
    "initialVel = velocityTraj1[0]\n",
    "\n",
    "controlMidpt = (min(optimalControlTraj1) + max(optimalControlTraj1)) * 0.5\n",
    "dYTicks = [gDTarget, 0, positionTraj1[0]]\n",
    "vYTicks = [0, 0.5 * max(velocityTraj1), max(velocityTraj1)]\n",
    "aYTicks = [min(optimalControlTraj1), controlMidpt, max(optimalControlTraj1)]\n",
    "#aYTicks = [0, controlMidpt, max(optimalControl)]\n",
    "fig, axs = plt.subplots(3)\n",
    "#fig.suptitle('$x^{*}(t), a^{*}(t)$ for $d_0 = %0.1f m, v_0 = %0.1f m/s$' %(initialPos, initialVel))\n",
    "\n",
    "## Position ---------------------------------------------------\n",
    "axs[0].plot(fullHorizAxis, minV, color = 'black', linewidth = 0.5)\n",
    "axs[0].plot(timeTraj1, positionTraj1,color= 'mediumorchid', linewidth=3, label='Position')\n",
    "axs[0].set_xlim([min(timeTraj1), max(timeTraj1)])\n",
    "axs[0].get_xaxis().set_ticks([])\n",
    "axs[0].get_yaxis().set_ticks(dYTicks)\n",
    "axs[0].tick_params(axis='both', which='major', labelsize=10)\n",
    "axs[0].set_ylabel(\"$d(t)$\")\n",
    "\n",
    "## Velocity ---------------------------------------------------\n",
    "axs[1].plot(fullHorizAxis, minV, color = 'black', linewidth = 0.5)\n",
    "axs[1].plot(timeTraj1, velocityTraj1,color='seagreen', linewidth=3, label='Velocity')\n",
    "axs[1].set_xlim([min(timeTraj1), max(timeTraj1)])\n",
    "axs[1].get_xaxis().set_ticks([])\n",
    "axs[1].get_yaxis().set_ticks(vYTicks)\n",
    "axs[1].yaxis.set_major_formatter(FormatStrFormatter('%.2f'))\n",
    "axs[1].tick_params(axis='both', which='major', labelsize=10)\n",
    "axs[1].set_ylabel(\"$v(t)$\")\n",
    "\n",
    "## Acceleration ---------------------------------------------------\n",
    "axs[2].plot(fullHorizAxis, minV, color = 'black', linewidth = 0.5)\n",
    "axs[2].plot(timeTraj1, optimalControlTraj1,color='darkorange', linewidth=3, label='a* (computed)')\n",
    "axs[2].set_xlim([min(timeTraj1), max(timeTraj1)])\n",
    "axs[2].set_ylabel(\"$a(t)$\")\n",
    "axs[2].get_yaxis().set_ticks(aYTicks)\n",
    "axs[2].yaxis.set_major_formatter(FormatStrFormatter('%.3f'))\n",
    "axs[2].tick_params(axis='both', which='major', labelsize=10)\n",
    "axs[2].set_xlabel(\"$t$\")\n",
    "\n",
    "if problemSelector > 1:\n",
    "    plt.figure(2)\n",
    "    initialPos = positionTraj2[0]\n",
    "    initialVel = velocityTraj2[0]\n",
    "\n",
    "    controlMidpt = (min(optimalControlTraj2) + max(optimalControlTraj2)) * 0.5\n",
    "    dYTicks = [gDTarget, 0, positionTraj2[0]]\n",
    "    vYTicks = [0, 0.5 * max(velocityTraj2), max(velocityTraj2)]\n",
    "    aYTicks = [min(optimalControlTraj2), controlMidpt, max(optimalControlTraj2)]\n",
    "    #aYTicks = [0, controlMidpt, max(optimalControl)]\n",
    "    fig, axs = plt.subplots(3)\n",
    "    #fig.suptitle('$x^{*}(t), a^{*}(t)$ for $d_0 = %0.1f m, v_0 = %0.1f m/s$' %(initialPos, initialVel))\n",
    "\n",
    "    ## Position ---------------------------------------------------\n",
    "    axs[0].plot(fullHorizAxis, minV, color = 'black', linewidth = 0.5)\n",
    "    axs[0].plot(timeTraj2,positionTraj2,color= 'mediumorchid', linewidth=3, label='Position')\n",
    "    axs[0].set_xlim([min(timeTraj2), max(timeTraj2)])\n",
    "    axs[0].get_xaxis().set_ticks([])\n",
    "    axs[0].get_yaxis().set_ticks(dYTicks)\n",
    "    axs[0].tick_params(axis='both', which='major', labelsize=10)\n",
    "    axs[0].set_ylabel(\"$d(t)$\")\n",
    "\n",
    "    ## Velocity ---------------------------------------------------\n",
    "    axs[1].plot(fullHorizAxis, minV, color = 'black', linewidth = 0.5)\n",
    "    axs[1].plot(timeTraj2,velocityTraj2,color='seagreen', linewidth=3, label='Velocity')\n",
    "    axs[1].set_xlim([min(timeTraj2), max(timeTraj2)])\n",
    "    axs[1].get_xaxis().set_ticks([])\n",
    "    axs[1].get_yaxis().set_ticks(vYTicks)\n",
    "    axs[1].yaxis.set_major_formatter(FormatStrFormatter('%.2f'))\n",
    "    axs[1].tick_params(axis='both', which='major', labelsize=10)\n",
    "    axs[1].set_ylabel(\"$v(t)$\")\n",
    "\n",
    "    ## Acceleration ---------------------------------------------------\n",
    "    axs[2].plot(fullHorizAxis, minV, color = 'black', linewidth = 0.5)\n",
    "    axs[2].plot(timeTraj2,optimalControlTraj2,color='darkorange', linewidth=3, label='a* (computed)')\n",
    "    axs[2].set_xlim([min(timeTraj2), max(timeTraj2)])\n",
    "    axs[2].set_ylabel(\"$a(t)$\")\n",
    "    axs[2].get_yaxis().set_ticks(aYTicks)\n",
    "    axs[2].yaxis.set_major_formatter(FormatStrFormatter('%.3f'))\n",
    "    axs[2].tick_params(axis='both', which='major', labelsize=10)\n",
    "    axs[2].set_xlabel(\"$t$\")\n"
   ]
  },
  {
   "cell_type": "markdown",
   "metadata": {},
   "source": [
    "## Heatmaps with Trajectory Starting Points:"
   ]
  },
  {
   "cell_type": "markdown",
   "metadata": {},
   "source": [
    "This section produces heatmap(s) of the feedback controls at $t=0$ corresponding to the selected problem and marks the trajectory starting $(d,v)$ with an X."
   ]
  },
  {
   "cell_type": "markdown",
   "metadata": {},
   "source": [
    "### Data Processing:"
   ]
  },
  {
   "cell_type": "code",
   "execution_count": 14,
   "metadata": {},
   "outputs": [],
   "source": [
    "fileName = 'FileName'\n",
    "fileName2 = 'FileName'\n",
    "fileName3 = 'FileName'\n",
    "if problemSelector == 1:\n",
    "    fileName = '../output/stationary_oc'\n",
    "elif problemSelector == 2:\n",
    "    fileName = '../output/rg_oc'\n",
    "elif problemSelector == 3:\n",
    "    fileName = '../output/yrg_oc_c2_0.33'"
   ]
  },
  {
   "cell_type": "code",
   "execution_count": 15,
   "metadata": {},
   "outputs": [],
   "source": [
    "## list of lists - each row from each matrix (starting from t=0) is stored as its own list in data, \n",
    "data = np.loadtxt('%s.txt' %fileName) \n",
    "data2 = np.loadtxt('%s.txt' %fileName) \n",
    "data3 = np.loadtxt('%s.txt' %fileName) \n",
    "\n",
    "#start = int(sampleSlice * (gDNum + 1))\n",
    "start = 0\n",
    "end = int(start + gDNum + 1)\n",
    "\n",
    "#extract the matrix for the user specifed slice \n",
    "plottingData = data[start:end]\n",
    "\n",
    "#flip the plotting data correctly to plot starting from the bottom left corner\n",
    "plottingData = np.transpose(plottingData) #rows first become columns \n",
    "\n",
    "plottingData = np.flip(plottingData,0) #order of the columns are flipped to start from bottom up\n",
    "\n",
    "#Go through data and reset accel infty to nan\n",
    "for j in range (0, gVNum):\n",
    "    for i in range (0, gDNum):\n",
    "        if plottingData[j][i] == prohibitedVal:\n",
    "            nanVal = np.nan\n",
    "            plottingData[j][i] = nanVal"
   ]
  },
  {
   "cell_type": "markdown",
   "metadata": {},
   "source": [
    "### Plotting Code:"
   ]
  },
  {
   "cell_type": "code",
   "execution_count": 16,
   "metadata": {},
   "outputs": [
    {
     "name": "stdout",
     "output_type": "stream",
     "text": [
      "0.0\n"
     ]
    },
    {
     "data": {
      "image/png": "[encoded data removed]",
      "text/plain": [
       "<Figure size 432x288 with 2 Axes>"
      ]
     },
     "metadata": {
      "needs_background": "light"
     },
     "output_type": "display_data"
    }
   ],
   "source": [
    "##----------------Plotting Code----------------------------##\n",
    "plt.figure(1)\n",
    "timeVal = 0 #starting t\n",
    "\n",
    "currentT = 0 * gDT #Note: Hard-coded t = 0 \n",
    "\n",
    "##---------------------Max accel line--------------------------------------\n",
    "timeToRed = gTR - currentT\n",
    "vCritical = gVMax - gBeta * timeToRed\n",
    "vThreshLinear = gAlpha * timeToRed * (1 + np.sqrt(1 + (gBeta / gAlpha)))\n",
    "parabExtensionA = (gBeta + gAlpha) / (2 * gAlpha * gBeta)\n",
    "parabExtensionB = -gVMax / gBeta\n",
    "parabExtensionC = (gVMax**2) / (2 * gBeta) -timeToRed * gVMax\n",
    "parabExtensionVelThresh = (-parabExtensionB + np.sqrt((parabExtensionB**2) - 4 *parabExtensionA * parabExtensionC)) / (2 * parabExtensionA)\n",
    "vThreshParab = (-parabExtensionB + np.sqrt((parabExtensionB**2) - 4 *parabExtensionA * parabExtensionC)) / (2 * parabExtensionA);\n",
    "officialVThresh = vThreshLinear\n",
    "if vCritical < vThreshLinear:\n",
    "    officialVThresh = vThreshParab \n",
    "print(currentT)\n",
    "maxAccelLine = []\n",
    "velVals = np.linspace(0, gVMax, gVNum)\n",
    "for i in range (0, len(velVals)):\n",
    "    v = velVals[i]\n",
    "    d = 0\n",
    "    timeToMaxV = (gVMax - v)\n",
    "    if v < vCritical:\n",
    "        d = v * (gTR - currentT) + 0.5*gBeta * (gTR - currentT)**2\n",
    "    else:\n",
    "        d = (-(v**2) / (2 * gBeta)) + ((v * gVMax) / gBeta) - (0.5 * (gVMax**2) / gBeta) + timeToRed*gVMax  \n",
    "    maxAccelLine.append(d)\n",
    "    \n",
    "#First trajectory starting point\n",
    "d0 = positionTraj1[0]\n",
    "v0 = velocityTraj1[0]\n",
    "       \n",
    "fig = plt.gcf()\n",
    "ax = fig.add_subplot(1,1,1)\n",
    "im = plt.imshow(plottingData, cmap=plt.get_cmap('jet'), vmin = gAccelInfty, vmax = gAlpha, extent=[gDTarget,gDMax,0,gVMax], interpolation='nearest')\n",
    "point1, = ax.plot(d0,v0, marker=\"X\", ms = 12, color = 'black')\n",
    "plt.clim([-gAlpha, gBeta]) #colorbar colors \n",
    "plt.xlabel('Position')\n",
    "plt.ylabel('Velocity')\n",
    "plt.colorbar() \n",
    "plt.gca().set_aspect('auto')\n",
    "plt.show()\n",
    "\n",
    "if problemSelector > 1:\n",
    "    d0Traj2 = positionTraj2[0]\n",
    "    v0Traj2 = velocityTraj2[0]\n",
    "    plt.figure(2)\n",
    "    fig = plt.gcf()\n",
    "    ax = fig.add_subplot(1,1,1)\n",
    "    im = plt.imshow(plottingData, cmap=plt.get_cmap('jet'), vmin = gAccelInfty, vmax = gAlpha, extent=[gDTarget,gDMax,0,gVMax], interpolation='nearest')\n",
    "    point1, = ax.plot(d0Traj2,v0Traj2, marker=\"X\", ms = 12, color = 'black')\n",
    "    plt.clim([-gAlpha, gBeta]) #colorbar colors \n",
    "    plt.xlabel('Position')\n",
    "    plt.ylabel('Velocity')\n",
    "    plt.colorbar() \n",
    "    plt.gca().set_aspect('auto')\n",
    "    plt.show()\n",
    "\n",
    "if problemSelector == 3:\n",
    "    d0Traj2 = positionTraj2[0]\n",
    "    v0Traj2 = velocityTraj2[0]\n",
    "    plt.figure(3)\n",
    "    fig = plt.gcf()\n",
    "    ax = fig.add_subplot(1,1,1)\n",
    "    im = plt.imshow(plottingData, cmap=plt.get_cmap('jet'), vmin = gAccelInfty, vmax = gAlpha, extent=[gDTarget,gDMax,0,gVMax], interpolation='nearest')\n",
    "    point, = ax.plot(d0,v0, marker=\"X\", ms = 8, color = 'white')\n",
    "    point1, = ax.plot(d0Traj2,v0Traj2, marker=\"X\", ms = 8, color = 'black')\n",
    "    plt.clim([-gAlpha, gBeta]) \n",
    "    plt.xlabel('Position')\n",
    "    plt.ylabel('Velocity')\n",
    "    plt.colorbar() \n",
    "    plt.gca().set_aspect('auto')\n",
    "    plt.show()"
   ]
  },
  {
   "cell_type": "code",
   "execution_count": null,
   "metadata": {},
   "outputs": [],
   "source": []
  }
 ],
 "metadata": {
  "kernelspec": {
   "display_name": "Python 3",
   "language": "python",
   "name": "python3"
  },
  "language_info": {
   "codemirror_mode": {
    "name": "ipython",
    "version": 3
   },
   "file_extension": ".py",
   "mimetype": "text/x-python",
   "name": "python",
   "nbconvert_exporter": "python",
   "pygments_lexer": "ipython3",
   "version": "3.8.5"
  }
 },
 "nbformat": 4,
 "nbformat_minor": 4
}
